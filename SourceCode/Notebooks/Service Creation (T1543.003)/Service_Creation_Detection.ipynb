{
 "cells": [
  {
   "cell_type": "markdown",
   "metadata": {},
   "source": [
    "# Analytic Preparation: "
   ]
  },
  {
   "cell_type": "code",
   "execution_count": 38,
   "metadata": {},
   "outputs": [],
   "source": [
    "%%capture\n",
    "!pip install splunk-sdk\n",
    "!pip install pandas\n",
    "!pip install pandasql\n",
    "import matplotlib.pyplot as plt\n",
    "import pandas as pd\n",
    "import pandasql\n",
    "pd.set_option('display.max_columns', None)  \n",
    "pd.set_option('display.expand_frame_repr', False)\n",
    "pd.set_option('max_colwidth', 0)"
   ]
  },
  {
   "cell_type": "code",
   "execution_count": 39,
   "metadata": {},
   "outputs": [],
   "source": [
    "import splunklib.client as client\n",
    "# Create a Service instance and log in \n",
    "service = client.connect(\n",
    "    host='192.168.1.68', #Input your Splunk's IP here\n",
    "    port='8089',\n",
    "    username=\"admin\",\n",
    "    password=\"Changeme1!\",\n",
    "    scheme='https')"
   ]
  },
  {
   "cell_type": "markdown",
   "metadata": {},
   "source": [
    "# Title: Service Creation (Detection)\n",
    "####  Author: Jonathan Johnson & Jared Atkinson"
   ]
  },
  {
   "cell_type": "markdown",
   "metadata": {},
   "source": [
    "## Goal: \n",
    "To alert when a new value is made within the `Services` registry key. "
   ]
  },
  {
   "cell_type": "markdown",
   "metadata": {},
   "source": [
    "## Categorization:\n",
    "\n",
    "#### [Windows Service Creation](https://attack.mitre.org/techniques/T1543/003/)"
   ]
  },
  {
   "cell_type": "markdown",
   "metadata": {},
   "source": [
    "## Tooling: \n",
    "#### [Sysmon](https://docs.microsoft.com/en-us/sysinternals/downloads/sysmon#:~:text=System%20Monitor%20(Sysmon)%20is%20a,changes%20to%20file%20creation%20time.)"
   ]
  },
  {
   "cell_type": "markdown",
   "metadata": {},
   "source": [
    "## Base Condition: \n",
    "Registry key creation under the `HKLM\\SYSTEM\\CurrentControlSet\\Services` key"
   ]
  },
  {
   "cell_type": "markdown",
   "metadata": {},
   "source": [
    "## Base Context Attributes: \n",
    "- Service Name Created\n",
    "- Image that created the service\n",
    "- ProcessGUID of the creating process\n",
    "- Timestamp"
   ]
  },
  {
   "cell_type": "markdown",
   "metadata": {},
   "source": [
    "## Base Condition Analytic: "
   ]
  },
  {
   "cell_type": "code",
   "execution_count": 40,
   "metadata": {},
   "outputs": [],
   "source": [
    "import splunklib.results as results\n",
    "#Query: \n",
    "query = \"search index=windows sourcetype=Sysmon EventCode=12 earliest=-15m | regex TargetObject=\\\"^HKLM\\\\\\\\\\System\\\\\\\\\\CurrentControlSet\\\\\\\\\\Services\\\\\\\\\\[a-zA-Z0-9_\\\\-]*$\\\"\"\n",
    "query_results = service.jobs.oneshot(query, count=0)\n",
    "reader = results.ResultsReader(query_results)\n",
    "\n",
    "results = []\n",
    "\n",
    "for result in reader:\n",
    "    results.append(result)\n",
    "    \n",
    "df_EID_12=pd.DataFrame(results)\n",
    "df2_EID_12 = df_EID_12.Message\n",
    "df3_EID_12 = df2_EID_12.str.split('\\n')\n",
    "df4_EID_12 = [{a.split(\":\")[0].strip():\":\".join(a.split(\":\")[1:]).strip() for a in b if \":\".join(a.split(\":\")[1:]).strip() != ''} for b in df3_EID_12]\n",
    "df5_EID_12 = pd.DataFrame(df4_EID_12)"
   ]
  },
  {
   "cell_type": "code",
   "execution_count": 42,
   "metadata": {},
   "outputs": [],
   "source": [
    "from pandasql import sqldf\n",
    "Base_Condition = pandasql.sqldf(\n",
    "\"\"\"\n",
    "SELECT *\n",
    "FROM df5_EID_12\n",
    "WHERE EventType = \"CreateKey\"\n",
    "\"\"\"\n",
    "\n",
    ").drop_duplicates().reset_index().drop(\"index\", axis=1)"
   ]
  },
  {
   "cell_type": "code",
   "execution_count": 43,
   "metadata": {},
   "outputs": [
    {
     "name": "stdout",
     "output_type": "stream",
     "text": [
      "Stored 'Base_Condition' (DataFrame)\n"
     ]
    }
   ],
   "source": [
    "%store Base_Condition"
   ]
  },
  {
   "cell_type": "code",
   "execution_count": 37,
   "metadata": {},
   "outputs": [],
   "source": [
    "Base_Condition.to_pickle('~/work/Base_Condition')"
   ]
  }
 ],
 "metadata": {
  "kernelspec": {
   "display_name": "Python 3",
   "language": "python",
   "name": "python3"
  },
  "language_info": {
   "codemirror_mode": {
    "name": "ipython",
    "version": 3
   },
   "file_extension": ".py",
   "mimetype": "text/x-python",
   "name": "python",
   "nbconvert_exporter": "python",
   "pygments_lexer": "ipython3",
   "version": "3.8.6"
  }
 },
 "nbformat": 4,
 "nbformat_minor": 4
}
