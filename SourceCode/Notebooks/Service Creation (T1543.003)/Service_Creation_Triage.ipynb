{
 "cells": [
  {
   "cell_type": "markdown",
   "metadata": {},
   "source": [
    "# Analytic Preparation: "
   ]
  },
  {
   "cell_type": "code",
   "execution_count": 79,
   "metadata": {},
   "outputs": [],
   "source": [
    "%%capture\n",
    "!pip install splunk-sdk\n",
    "!pip install pandas\n",
    "!pip install pandasql\n",
    "import matplotlib.pyplot as plt\n",
    "import pandas as pd\n",
    "import pandasql\n",
    "pd.set_option('display.max_columns', None)  \n",
    "pd.set_option('display.expand_frame_repr', False)\n",
    "pd.set_option('max_colwidth', 0)"
   ]
  },
  {
   "cell_type": "code",
   "execution_count": 80,
   "metadata": {},
   "outputs": [],
   "source": [
    "import splunklib.client as client\n",
    "# Create a Service instance and log in \n",
    "service = client.connect(\n",
    "    host='192.168.1.68', #Input your Splunk's IP here\n",
    "    port='8089',\n",
    "    username=\"admin\",\n",
    "    password=\"Changeme1!\",\n",
    "    scheme='https')"
   ]
  },
  {
   "cell_type": "markdown",
   "metadata": {},
   "source": [
    "# Title: Service Creation (Traige)\n",
    "###  Author: Jonathan Johnson & Jared Atkinson"
   ]
  },
  {
   "cell_type": "markdown",
   "metadata": {},
   "source": [
    "#### Pulling Data from Detection Notebook:"
   ]
  },
  {
   "cell_type": "code",
   "execution_count": 81,
   "metadata": {},
   "outputs": [],
   "source": [
    "%store -r Base_Condition"
   ]
  },
  {
   "cell_type": "markdown",
   "metadata": {},
   "source": [
    "## Context Objective: \n",
    "### Registry Key Event &larr; &rarr; Registry Value Set &larr; &rarr; Network Event &larr; &rarr; Process Creation"
   ]
  },
  {
   "cell_type": "markdown",
   "metadata": {},
   "source": [
    "## Data Collection:"
   ]
  },
  {
   "cell_type": "markdown",
   "metadata": {},
   "source": [
    "### Registry Set Values"
   ]
  },
  {
   "cell_type": "code",
   "execution_count": 82,
   "metadata": {},
   "outputs": [],
   "source": [
    "#ImagePath \n",
    "from splunklib.searchcommands import *\n",
    "from tqdm.notebook import tqdm\n",
    "from time import sleep\n",
    "import splunklib.results as ImagePath\n",
    "query = \"search index=Windows sourcetype=Sysmon EventCode=13 TargetObject=\\\"HKLM\\\\\\System\\\\\\CurrentControlSet\\\\\\Services\\\\\\*\\\\\\ImagePath\\\" earliest=-15m\"\n",
    "query_results = service.jobs.oneshot(query, count=0)\n",
    "reader = ImagePath.ResultsReader(query_results)\n",
    "\n",
    "ImagePath = []\n",
    "\n",
    "for result in reader:\n",
    "    ImagePath.append(result)\n",
    "    \n",
    "df_EID_13_imagepath = pd.DataFrame(ImagePath)    \n",
    "    \n",
    "    \n",
    "if len(df_EID_13_imagepath.index) > 0:\n",
    "    df2_EID_13_imagepath = df_EID_13_imagepath.Message # Pulling message tag\n",
    "    df3_EID_13_imagepath = df2_EID_13_imagepath.str.split('\\n') #\"Splitting data on new-line (\\n)\"\n",
    "    df4_EID_13_imagepath = [{a.split(\":\")[0].strip():\":\".join(a.split(\":\")[1:]).strip() for a in b if \":\".join(a.split(\":\")[1:]).strip() != ''} for b in df3_EID_13_imagepath] #Splitting [:] / Removing null values\n",
    "    Value_Set_ImagePath = pd.DataFrame(df4_EID_13_imagepath) #Convert list to dataframe\n",
    "if len(df_EID_13_imagepath.index) == 0:\n",
    "    print (\"No Data\")"
   ]
  },
  {
   "cell_type": "markdown",
   "metadata": {},
   "source": [
    "### Pulling Network Events:"
   ]
  },
  {
   "cell_type": "code",
   "execution_count": 83,
   "metadata": {},
   "outputs": [
    {
     "name": "stdout",
     "output_type": "stream",
     "text": [
      "Stored 'Network_Events' (DataFrame)\n"
     ]
    }
   ],
   "source": [
    "#Host Network: \n",
    "\n",
    "import splunklib.results as Network\n",
    "from splunklib.searchcommands import *\n",
    "from tqdm.notebook import tqdm\n",
    "from time import sleep\n",
    "\n",
    "query = \"search index=Windows sourcetype=Sysmon EventCode=3 DestinationHostname=*.marvel.local earliest=-15m\"\n",
    "query_results = service.jobs.oneshot(query, count=0)\n",
    "reader = Network.ResultsReader(query_results)\n",
    "\n",
    "Network = []\n",
    "\n",
    "for result in reader:\n",
    "    Network.append(result)\n",
    "    \n",
    "df_EID_3=pd.DataFrame(Network)\n",
    "\n",
    "if len(df_EID_3.index) > 0:\n",
    "    df2_EID_3 = df_EID_3.Message # Pulling message tag\n",
    "    df3_EID_3 = df2_EID_3.str.split('\\n') #\"Splitting data on new-line (\\n)\"\n",
    "    df4_EID_3 = [{a.split(\":\")[0].strip():\":\".join(a.split(\":\")[1:]).strip() for a in b if \":\".join(a.split(\":\")[1:]).strip() != ''} for b in df3_EID_3] #Splitting [:] / Removing null values\n",
    "    Network_Events = pd.DataFrame(df4_EID_3) #Convert list to dataframe\n",
    "    Network_Events_update = Network_Events['Image'].str.split('\\\\').str[-1]\n",
    "    Network_Events.update(Network_Events_update)\n",
    "    %store Network_Events\n",
    "if len(df_EID_3.index) == 0:\n",
    "    print(\"No Data\")\n",
    "    %store Network_Events"
   ]
  },
  {
   "cell_type": "markdown",
   "metadata": {},
   "source": [
    "### RPC Host Data:"
   ]
  },
  {
   "cell_type": "code",
   "execution_count": 84,
   "metadata": {},
   "outputs": [
    {
     "name": "stdout",
     "output_type": "stream",
     "text": [
      "Stored 'RPC_Server' (DataFrame)\n"
     ]
    }
   ],
   "source": [
    "import splunklib.results as RPC\n",
    "from splunklib.searchcommands import *\n",
    "from tqdm.notebook import tqdm\n",
    "from time import sleep\n",
    "\n",
    "query = \"search index=Windows sourcetype=Security EventCode=5156 (Application_Name!=*splunk* AND Application_Name!=System) Direction=Inbound earliest=-15m\"\n",
    "query_results = service.jobs.oneshot(query, count=0)\n",
    "reader = RPC.ResultsReader(query_results)\n",
    "\n",
    "RPC = []\n",
    "\n",
    "for result in reader:\n",
    "     RPC.append(result) \n",
    "\n",
    "df_EID_5156=pd.DataFrame(RPC)\n",
    "\n",
    "if len(df_EID_5156.index) > 0:\n",
    "    df2_EID_5156 = df_EID_5156.Message # Pulling message tag\n",
    "    df3_EID_5156 = df2_EID_5156.str.split('\\n') #\"Splitting data on new-line (\\n)\"\n",
    "    df4_EID_5156 = [{a.split(\":\")[0].strip():\":\".join(a.split(\":\")[1:]).strip() for a in b if \":\".join(a.split(\":\")[1:]).strip() != ''} for b in df3_EID_5156] #Splitting [:] / Removing null values\n",
    "    RPC_Server = pd.DataFrame(df4_EID_5156) #Convert list to dataframe\n",
    "    RPC_Server_update = RPC_Server['Application Name'].str.split('\\\\').str[-1]\n",
    "    RPC_Server.update(RPC_Server_update)\n",
    "    %store RPC_Server\n",
    "if len(df_EID_5156.index) == 0:\n",
    "    print(\"No Data\")\n",
    "    %store RPC_Server"
   ]
  },
  {
   "cell_type": "code",
   "execution_count": 85,
   "metadata": {},
   "outputs": [
    {
     "name": "stdout",
     "output_type": "stream",
     "text": [
      "Stored 'RPC_Client' (DataFrame)\n"
     ]
    }
   ],
   "source": [
    "import splunklib.results as RPC\n",
    "from splunklib.searchcommands import *\n",
    "from tqdm.notebook import tqdm\n",
    "from time import sleep\n",
    "\n",
    "query = \"search index=Windows sourcetype=Security EventCode=5156 (Application_Name!=*splunk*) Direction=Outbound earliest=-15m\"\n",
    "query_results = service.jobs.oneshot(query, count=0)\n",
    "reader = RPC.ResultsReader(query_results)\n",
    "\n",
    "RPC = []\n",
    "\n",
    "for result in reader:\n",
    "     RPC.append(result)\n",
    "        \n",
    "df_EID_5156=pd.DataFrame(RPC)\n",
    "\n",
    "if len(df_EID_5156.index) > 0:\n",
    "    df2_EID_5156 = df_EID_5156.Message # Pulling message tag\n",
    "    df3_EID_5156 = df2_EID_5156.str.split('\\n') #\"Splitting data on new-line (\\n)\"\n",
    "    df4_EID_5156 = [{a.split(\":\")[0].strip():\":\".join(a.split(\":\")[1:]).strip() for a in b if \":\".join(a.split(\":\")[1:]).strip() != ''} for b in df3_EID_5156] #Splitting [:] / Removing null values\n",
    "    RPC_Client = pd.DataFrame(df4_EID_5156) #Convert list to dataframe\n",
    "    RPC_Client_update = RPC_Client['Application Name'].str.split('\\\\').str[-1]\n",
    "    RPC_Client.update(RPC_Client_update)\n",
    "    %store RPC_Client\n",
    "if len(df_EID_5156.index) == 0:\n",
    "    print(\"No Data\")\n",
    "    %store RPC_Client"
   ]
  },
  {
   "cell_type": "markdown",
   "metadata": {},
   "source": [
    "### Zeek:"
   ]
  },
  {
   "cell_type": "code",
   "execution_count": 86,
   "metadata": {},
   "outputs": [
    {
     "name": "stdout",
     "output_type": "stream",
     "text": [
      "Stored 'Zeek' (DataFrame)\n"
     ]
    }
   ],
   "source": [
    "import splunklib.results as Zeek\n",
    "from splunklib.searchcommands import *\n",
    "from tqdm.notebook import tqdm\n",
    "from time import sleep\n",
    "\n",
    "query = \"search index=Zeek source=*dce_rpc.log earliest=-15m\"\n",
    "query_results = service.jobs.oneshot(query, count=0)\n",
    "reader = Zeek.ResultsReader(query_results)\n",
    "\n",
    "Zeek = []\n",
    "\n",
    "for result in reader:\n",
    "     Zeek.append(result)\n",
    "\n",
    "Zeek=pd.DataFrame(Zeek)\n",
    "    \n",
    "if len(Zeek.index) > 0:\n",
    "    Zeek=Zeek._raw\n",
    "    import json\n",
    "    Zeek = [json.loads(j) for j in Zeek]\n",
    "    Zeek = pd.DataFrame(Zeek) #Splitting [:] / Removing null values\n",
    "    %store Zeek\n",
    "if len(Zeek.index) == 0:\n",
    "    print(\"No Data\")\n",
    "    %store Zeek"
   ]
  },
  {
   "cell_type": "markdown",
   "metadata": {},
   "source": [
    "### Process Creation Events:"
   ]
  },
  {
   "cell_type": "code",
   "execution_count": 99,
   "metadata": {},
   "outputs": [
    {
     "name": "stdout",
     "output_type": "stream",
     "text": [
      "Stored 'Process_Creation' (DataFrame)\n"
     ]
    }
   ],
   "source": [
    "import splunklib.results as Process_Creation\n",
    "from splunklib.searchcommands import *\n",
    "from tqdm.notebook import tqdm\n",
    "from time import sleep\n",
    "#Type: \n",
    "query = \"search index=Windows sourcetype=Sysmon EventCode=1 earliest=-15m\"\n",
    "query_results = service.jobs.oneshot(query, count=0)\n",
    "reader = Process_Creation.ResultsReader(query_results)\n",
    "\n",
    "Process_Creation = []\n",
    "\n",
    "for result in reader:\n",
    "    Process_Creation.append(result)\n",
    "\n",
    "df_EID_1=pd.DataFrame(Process_Creation)\n",
    "\n",
    "if len(df_EID_1.index) > 0:\n",
    "    df2_EID_1 = df_EID_1.Message # Pulling message tag\n",
    "    df3_EID_1 = df2_EID_1.str.split('\\n') #\"Splitting data on new-line (\\n)\"\n",
    "    df4_EID_1 = [{a.split(\":\")[0].strip():\":\".join(a.split(\":\")[1:]).strip() for a in b if \":\".join(a.split(\":\")[1:]).strip() != ''} for b in df3_EID_1] #Splitting [:] / Removing null values\n",
    "    Process_Creation = pd.DataFrame(df4_EID_1) #Convert list to dataframe\n",
    "    Process_Creation_Update = Process_Creation['ParentImage'].str.split('\\\\').str[-1]\n",
    "    Process_Creation.update(Process_Creation_Update)\n",
    "    %store Process_Creation\n",
    "if len(df_EID_1.index) == 0:\n",
    "    print(\"No Data\")\n",
    "    %store Process_Creation"
   ]
  },
  {
   "cell_type": "markdown",
   "metadata": {},
   "source": [
    "# JOIN Functions:"
   ]
  },
  {
   "cell_type": "markdown",
   "metadata": {},
   "source": [
    "### JOINing set values for `ImagePath` with Registry Key Creations"
   ]
  },
  {
   "cell_type": "code",
   "execution_count": 88,
   "metadata": {},
   "outputs": [],
   "source": [
    "from pandasql import sqldf\n",
    "Registry_JOIN = pandasql.sqldf(\n",
    "\"\"\"\n",
    "SELECT \n",
    "a.UtcTime,\n",
    "b.ProcessGuid, \n",
    "b.Image,\n",
    "b.TargetObject,\n",
    "a.Details\n",
    "FROM Value_Set_ImagePath a\n",
    "INNER JOIN Base_Condition b\n",
    "ON a.UtcTime = b.UtcTime \n",
    "\"\"\"\n",
    "\n",
    ").drop_duplicates(subset=['UtcTime']).reset_index().drop(\"index\", axis=1)"
   ]
  },
  {
   "cell_type": "code",
   "execution_count": 89,
   "metadata": {},
   "outputs": [
    {
     "name": "stdout",
     "output_type": "stream",
     "text": [
      "Stored 'Registry_JOIN' (DataFrame)\n"
     ]
    }
   ],
   "source": [
    "%store Registry_JOIN"
   ]
  },
  {
   "cell_type": "code",
   "execution_count": 90,
   "metadata": {},
   "outputs": [
    {
     "data": {
      "text/html": [
       "<div>\n",
       "<style scoped>\n",
       "    .dataframe tbody tr th:only-of-type {\n",
       "        vertical-align: middle;\n",
       "    }\n",
       "\n",
       "    .dataframe tbody tr th {\n",
       "        vertical-align: top;\n",
       "    }\n",
       "\n",
       "    .dataframe thead th {\n",
       "        text-align: right;\n",
       "    }\n",
       "</style>\n",
       "<table border=\"1\" class=\"dataframe\">\n",
       "  <thead>\n",
       "    <tr style=\"text-align: right;\">\n",
       "      <th></th>\n",
       "      <th>UtcTime</th>\n",
       "      <th>ProcessGuid</th>\n",
       "      <th>Image</th>\n",
       "      <th>TargetObject</th>\n",
       "      <th>Details</th>\n",
       "    </tr>\n",
       "  </thead>\n",
       "  <tbody>\n",
       "    <tr>\n",
       "      <th>0</th>\n",
       "      <td>2020-11-02 18:44:00.629</td>\n",
       "      <td>{63e358a4-2a01-5fa0-0b00-000000002d00}</td>\n",
       "      <td>C:\\Windows\\system32\\services.exe</td>\n",
       "      <td>HKLM\\System\\CurrentControlSet\\Services\\SO-CON</td>\n",
       "      <td>C:\\Windows\\System32\\notepad.exe</td>\n",
       "    </tr>\n",
       "  </tbody>\n",
       "</table>\n",
       "</div>"
      ],
      "text/plain": [
       "                   UtcTime                             ProcessGuid                             Image                                   TargetObject                          Details\n",
       "0  2020-11-02 18:44:00.629  {63e358a4-2a01-5fa0-0b00-000000002d00}  C:\\Windows\\system32\\services.exe  HKLM\\System\\CurrentControlSet\\Services\\SO-CON  C:\\Windows\\System32\\notepad.exe"
      ]
     },
     "execution_count": 90,
     "metadata": {},
     "output_type": "execute_result"
    }
   ],
   "source": [
    "Registry_JOIN"
   ]
  },
  {
   "cell_type": "markdown",
   "metadata": {},
   "source": [
    "### JOINing Registry Events and Host Network Events (Server): "
   ]
  },
  {
   "cell_type": "code",
   "execution_count": 91,
   "metadata": {},
   "outputs": [],
   "source": [
    "from pandasql import sqldf\n",
    "Registry_Network_JOIN = pandasql.sqldf(\n",
    "\"\"\"\n",
    "SELECT \n",
    "a.UtcTime,\n",
    "a.ProcessGuid, \n",
    "b.Image,\n",
    "a.TargetObject,\n",
    "b.User,\n",
    "b.SourceIp,\n",
    "b.DestinationIp,\n",
    "b.SourceHostname,\n",
    "b.DestinationHostname,\n",
    "b.SourcePort,\n",
    "b.DestinationPort, \n",
    "a.Details\n",
    "FROM Registry_JOIN a\n",
    "INNER JOIN Network_Events b\n",
    "ON a.ProcessGuid = b.ProcessGuid \n",
    "\"\"\"\n",
    "\n",
    ").drop_duplicates(subset=['UtcTime']).reset_index().drop(\"index\", axis=1)"
   ]
  },
  {
   "cell_type": "code",
   "execution_count": 92,
   "metadata": {},
   "outputs": [
    {
     "name": "stdout",
     "output_type": "stream",
     "text": [
      "Stored 'Registry_Network_JOIN' (DataFrame)\n"
     ]
    }
   ],
   "source": [
    "Registry_Network_JOIN_update = Registry_Network_JOIN['Image'].str.split('\\\\').str[-1]\n",
    "Registry_Network_JOIN.update(Registry_Network_JOIN_update)\n",
    "%store Registry_Network_JOIN"
   ]
  },
  {
   "cell_type": "code",
   "execution_count": 93,
   "metadata": {},
   "outputs": [
    {
     "data": {
      "text/html": [
       "<div>\n",
       "<style scoped>\n",
       "    .dataframe tbody tr th:only-of-type {\n",
       "        vertical-align: middle;\n",
       "    }\n",
       "\n",
       "    .dataframe tbody tr th {\n",
       "        vertical-align: top;\n",
       "    }\n",
       "\n",
       "    .dataframe thead th {\n",
       "        text-align: right;\n",
       "    }\n",
       "</style>\n",
       "<table border=\"1\" class=\"dataframe\">\n",
       "  <thead>\n",
       "    <tr style=\"text-align: right;\">\n",
       "      <th></th>\n",
       "      <th>UtcTime</th>\n",
       "      <th>ProcessGuid</th>\n",
       "      <th>Image</th>\n",
       "      <th>TargetObject</th>\n",
       "      <th>User</th>\n",
       "      <th>SourceIp</th>\n",
       "      <th>DestinationIp</th>\n",
       "      <th>SourceHostname</th>\n",
       "      <th>DestinationHostname</th>\n",
       "      <th>SourcePort</th>\n",
       "      <th>DestinationPort</th>\n",
       "      <th>Details</th>\n",
       "    </tr>\n",
       "  </thead>\n",
       "  <tbody>\n",
       "    <tr>\n",
       "      <th>0</th>\n",
       "      <td>2020-11-02 18:44:00.629</td>\n",
       "      <td>{63e358a4-2a01-5fa0-0b00-000000002d00}</td>\n",
       "      <td>services.exe</td>\n",
       "      <td>HKLM\\System\\CurrentControlSet\\Services\\SO-CON</td>\n",
       "      <td>NT AUTHORITY\\SYSTEM</td>\n",
       "      <td>192.168.146.14</td>\n",
       "      <td>192.168.146.15</td>\n",
       "      <td>ASGARD-WRKSTN</td>\n",
       "      <td>Earth-DC.marvel.local</td>\n",
       "      <td>64505</td>\n",
       "      <td>49680</td>\n",
       "      <td>C:\\Windows\\System32\\notepad.exe</td>\n",
       "    </tr>\n",
       "  </tbody>\n",
       "</table>\n",
       "</div>"
      ],
      "text/plain": [
       "                   UtcTime                             ProcessGuid         Image                                   TargetObject                 User        SourceIp   DestinationIp SourceHostname    DestinationHostname SourcePort DestinationPort                          Details\n",
       "0  2020-11-02 18:44:00.629  {63e358a4-2a01-5fa0-0b00-000000002d00}  services.exe  HKLM\\System\\CurrentControlSet\\Services\\SO-CON  NT AUTHORITY\\SYSTEM  192.168.146.14  192.168.146.15  ASGARD-WRKSTN  Earth-DC.marvel.local  64505      49680           C:\\Windows\\System32\\notepad.exe"
      ]
     },
     "execution_count": 93,
     "metadata": {},
     "output_type": "execute_result"
    }
   ],
   "source": [
    "Registry_Network_JOIN"
   ]
  },
  {
   "cell_type": "markdown",
   "metadata": {},
   "source": [
    "# Isolating Client-Side RPC/Network Data:  \n",
    "#### This JOIN will seperate the client-side application used to create a service by: \n",
    "- Explicitly saying that the application name on the server does not equal the clients application name\n",
    "- JOINs on `SourcePort`, `DestiatnionPort`, `DestinationIP`, `SourceIP`\n",
    "- Explicitly saying the network connection is `Outbound`"
   ]
  },
  {
   "cell_type": "code",
   "execution_count": 94,
   "metadata": {},
   "outputs": [],
   "source": [
    "from pandasql import sqldf\n",
    "Client_Side_Network_df = pandasql.sqldf(\n",
    "\"\"\"\n",
    "SELECT \n",
    "b.UtcTime,\n",
    "b.ProcessGuid,\n",
    "b.Image,\n",
    "a.\"Application Name\",\n",
    "b.User,\n",
    "b.SourceIp,\n",
    "b.SourceHostname,\n",
    "b.DestinationHostname,\n",
    "b.SourcePort,\n",
    "b.DestinationPort, \n",
    "c.endpoint,\n",
    "c.operation,\n",
    "b.TargetObject, \n",
    "b.Details\n",
    "FROM RPC_Client  a\n",
    "JOIN Registry_Network_JOIN b\n",
    "ON a.\"Application Name\" != b.Image\n",
    "AND a.\"Source Port\" = b.SourcePort\n",
    "AND a.\"Source Address\" = b.SourceIp\n",
    "AND a.\"Destination Address\"=b.DestinationIp\n",
    "AND a.\"Destination Port\" = b.DestinationPort\n",
    "AND a.Direction = \"Outbound\"\n",
    "JOIN Zeek c\n",
    "ON c.\"id.orig_h\" = b.SourceIp\n",
    "AND (c.\"operation\" LIKE \"%CreateService%\" OR c.operation LIKE \"%CreateKey%\")\n",
    "\"\"\"\n",
    "\n",
    ").drop_duplicates().reset_index().drop(\"index\", axis=1)"
   ]
  },
  {
   "cell_type": "code",
   "execution_count": 95,
   "metadata": {},
   "outputs": [
    {
     "name": "stdout",
     "output_type": "stream",
     "text": [
      "Stored 'Client_Side_Network_df' (DataFrame)\n"
     ]
    }
   ],
   "source": [
    "%store Client_Side_Network_df"
   ]
  },
  {
   "cell_type": "markdown",
   "metadata": {},
   "source": [
    "### Parent Process"
   ]
  },
  {
   "cell_type": "code",
   "execution_count": 100,
   "metadata": {},
   "outputs": [],
   "source": [
    "from pandasql import sqldf\n",
    "Client_Parent_Process_df = pandasql.sqldf(\n",
    "\"\"\"\n",
    "SELECT \n",
    "a.UtcTime,\n",
    "a.ProcessGuid,\n",
    "b.ProcessGuid,\n",
    "b.ParentImage,\n",
    "a.'Application Name',\n",
    "a.Image,\n",
    "a.TargetObject,\n",
    "a.SourceHostname,\n",
    "a.DestinationHostname,\n",
    "a.endpoint,\n",
    "a.operation,\n",
    "b.OriginalFilename,\n",
    "b.Commandline\n",
    "FROM Client_Side_Network_df a\n",
    "JOIN Process_Creation b\n",
    "ON a.\"Application Name\"=b.OriginalFileName\n",
    "\n",
    "\"\"\"\n",
    "\n",
    ").drop_duplicates().reset_index().drop(\"index\", axis=1)"
   ]
  },
  {
   "cell_type": "code",
   "execution_count": 101,
   "metadata": {},
   "outputs": [
    {
     "name": "stdout",
     "output_type": "stream",
     "text": [
      "Stored 'Client_Parent_Process_df' (DataFrame)\n"
     ]
    }
   ],
   "source": [
    "%store Client_Parent_Process_df"
   ]
  },
  {
   "cell_type": "code",
   "execution_count": 102,
   "metadata": {},
   "outputs": [
    {
     "data": {
      "text/html": [
       "<div>\n",
       "<style scoped>\n",
       "    .dataframe tbody tr th:only-of-type {\n",
       "        vertical-align: middle;\n",
       "    }\n",
       "\n",
       "    .dataframe tbody tr th {\n",
       "        vertical-align: top;\n",
       "    }\n",
       "\n",
       "    .dataframe thead th {\n",
       "        text-align: right;\n",
       "    }\n",
       "</style>\n",
       "<table border=\"1\" class=\"dataframe\">\n",
       "  <thead>\n",
       "    <tr style=\"text-align: right;\">\n",
       "      <th></th>\n",
       "      <th>UtcTime</th>\n",
       "      <th>ProcessGuid</th>\n",
       "      <th>ProcessGuid</th>\n",
       "      <th>ParentImage</th>\n",
       "      <th>Application Name</th>\n",
       "      <th>Image</th>\n",
       "      <th>TargetObject</th>\n",
       "      <th>SourceHostname</th>\n",
       "      <th>DestinationHostname</th>\n",
       "      <th>endpoint</th>\n",
       "      <th>operation</th>\n",
       "      <th>OriginalFileName</th>\n",
       "      <th>CommandLine</th>\n",
       "    </tr>\n",
       "  </thead>\n",
       "  <tbody>\n",
       "    <tr>\n",
       "      <th>0</th>\n",
       "      <td>2020-11-02 18:44:00.629</td>\n",
       "      <td>{63e358a4-2a01-5fa0-0b00-000000002d00}</td>\n",
       "      <td>{FA827E5A-5370-5FA0-9405-000000003000}</td>\n",
       "      <td>powershell.exe</td>\n",
       "      <td>sc.exe</td>\n",
       "      <td>services.exe</td>\n",
       "      <td>HKLM\\System\\CurrentControlSet\\Services\\SO-CON</td>\n",
       "      <td>ASGARD-WRKSTN</td>\n",
       "      <td>Earth-DC.marvel.local</td>\n",
       "      <td>svcctl</td>\n",
       "      <td>CreateServiceW</td>\n",
       "      <td>sc.exe</td>\n",
       "      <td>\"C:\\Windows\\system32\\sc.exe\" \\\\192.168.146.15 create SO-CON binpath=C:\\Windows\\System32\\notepad.exe</td>\n",
       "    </tr>\n",
       "  </tbody>\n",
       "</table>\n",
       "</div>"
      ],
      "text/plain": [
       "                   UtcTime                             ProcessGuid                             ProcessGuid     ParentImage Application Name         Image                                   TargetObject SourceHostname    DestinationHostname endpoint       operation OriginalFileName                                                                                          CommandLine\n",
       "0  2020-11-02 18:44:00.629  {63e358a4-2a01-5fa0-0b00-000000002d00}  {FA827E5A-5370-5FA0-9405-000000003000}  powershell.exe  sc.exe           services.exe  HKLM\\System\\CurrentControlSet\\Services\\SO-CON  ASGARD-WRKSTN  Earth-DC.marvel.local  svcctl   CreateServiceW  sc.exe           \"C:\\Windows\\system32\\sc.exe\" \\\\192.168.146.15 create SO-CON binpath=C:\\Windows\\System32\\notepad.exe"
      ]
     },
     "execution_count": 102,
     "metadata": {},
     "output_type": "execute_result"
    }
   ],
   "source": [
    "Client_Parent_Process_df"
   ]
  },
  {
   "cell_type": "markdown",
   "metadata": {},
   "source": [
    "# Dataframe Updates:"
   ]
  },
  {
   "cell_type": "code",
   "execution_count": 103,
   "metadata": {},
   "outputs": [],
   "source": [
    "Parent_Process = []\n",
    "Command_Line=[]\n",
    "Iniating_Process = []\n",
    "Details=[]\n",
    "Network_Connections=[]\n",
    "Destination_Host = []\n",
    "Source_Host = []\n",
    "Operations = []"
   ]
  },
  {
   "cell_type": "code",
   "execution_count": 104,
   "metadata": {},
   "outputs": [],
   "source": [
    "for i in Registry_Network_JOIN['Image']:\n",
    "    Network = i\n",
    "for j in Value_Set_ImagePath['Details']:\n",
    "    ImagePath = j \n",
    "for l in Client_Side_Network_df['Application Name']:\n",
    "    Process = l\n",
    "for l in Client_Parent_Process_df['ParentImage']:\n",
    "    ParentImage = l\n",
    "for m in Client_Parent_Process_df['CommandLine']:\n",
    "    CommandLine = m \n",
    "for n in Client_Parent_Process_df['DestinationHostname']:\n",
    "    DestinationHost = n \n",
    "for o in Client_Parent_Process_df['SourceHostname']:\n",
    "    SourceHost = o \n",
    "for p in Client_Parent_Process_df['operation']:\n",
    "    Operation = p"
   ]
  },
  {
   "cell_type": "code",
   "execution_count": 105,
   "metadata": {},
   "outputs": [],
   "source": [
    "for a in Base_Condition['UtcTime']:\n",
    "    Details.append(None)\n",
    "    Network_Connections.append(None)\n",
    "    Parent_Process.append(None)\n",
    "    Command_Line.append(None)\n",
    "    Iniating_Process.append(None)\n",
    "    Source_Host.append(None)\n",
    "    Destination_Host.append(None)\n",
    "    Operations.append(None)\n",
    "    for b in Value_Set_ImagePath['UtcTime']:\n",
    "        if a==b:\n",
    "            Details[-1] = ImagePath\n",
    "    for c in Registry_Network_JOIN['UtcTime']:\n",
    "        if a==c:\n",
    "            Network_Connections[-1] = Network\n",
    "    for d in Client_Parent_Process_df['UtcTime']:\n",
    "        if a==d:\n",
    "            Parent_Process[-1] = Process\n",
    "            Command_Line[-1] = CommandLine\n",
    "            Iniating_Process[-1] = ParentImage\n",
    "            Destination_Host[-1] = DestinationHost\n",
    "            Source_Host[-1] = SourceHost\n",
    "            Operations[-1] = Operation\n",
    "    \n",
    "    "
   ]
  },
  {
   "cell_type": "code",
   "execution_count": 106,
   "metadata": {},
   "outputs": [],
   "source": [
    "Base_Condition['Source Host'] = Source_Host\n",
    "Base_Condition['Destination Host'] = Destination_Host\n",
    "Base_Condition['Details'] = Details\n",
    "Base_Condition['Parent Process'] = Parent_Process\n",
    "Base_Condition['Iniating Process'] = Iniating_Process\n",
    "Base_Condition['CommandLine'] = Command_Line\n",
    "Base_Condition['Network Image'] = Network_Connections\n",
    "Base_Condition['Operations'] = Operations"
   ]
  },
  {
   "cell_type": "code",
   "execution_count": 107,
   "metadata": {},
   "outputs": [],
   "source": [
    "Severity=[]\n",
    "High = 'High'\n",
    "Medium = 'Medium'\n",
    "Low = 'Low'"
   ]
  },
  {
   "cell_type": "code",
   "execution_count": 108,
   "metadata": {},
   "outputs": [],
   "source": [
    "for a, b, c in zip(Base_Condition['EventType'], Base_Condition['Details'], Base_Condition['Network Image']):\n",
    "    Severity.append(None)\n",
    "    if a != None and b == None and c == None:\n",
    "        Severity[-1] = Low\n",
    "    if a != None and b != None and c == None:\n",
    "        Severity[-1] = Medium\n",
    "    if a != None and b != None and c != None:\n",
    "        Severity[-1] = High"
   ]
  },
  {
   "cell_type": "code",
   "execution_count": 109,
   "metadata": {},
   "outputs": [],
   "source": [
    "Base_Condition['Severity'] = Severity"
   ]
  },
  {
   "cell_type": "code",
   "execution_count": 110,
   "metadata": {},
   "outputs": [
    {
     "name": "stdout",
     "output_type": "stream",
     "text": [
      "Stored 'Base_Condition' (DataFrame)\n"
     ]
    }
   ],
   "source": [
    "%store Base_Condition"
   ]
  },
  {
   "cell_type": "code",
   "execution_count": 111,
   "metadata": {},
   "outputs": [
    {
     "data": {
      "text/html": [
       "<div>\n",
       "<style scoped>\n",
       "    .dataframe tbody tr th:only-of-type {\n",
       "        vertical-align: middle;\n",
       "    }\n",
       "\n",
       "    .dataframe tbody tr th {\n",
       "        vertical-align: top;\n",
       "    }\n",
       "\n",
       "    .dataframe thead th {\n",
       "        text-align: right;\n",
       "    }\n",
       "</style>\n",
       "<table border=\"1\" class=\"dataframe\">\n",
       "  <thead>\n",
       "    <tr style=\"text-align: right;\">\n",
       "      <th></th>\n",
       "      <th>RuleName</th>\n",
       "      <th>EventType</th>\n",
       "      <th>UtcTime</th>\n",
       "      <th>ProcessGuid</th>\n",
       "      <th>ProcessId</th>\n",
       "      <th>Image</th>\n",
       "      <th>TargetObject</th>\n",
       "      <th>Source Host</th>\n",
       "      <th>Destination Host</th>\n",
       "      <th>Details</th>\n",
       "      <th>Parent Process</th>\n",
       "      <th>Iniating Process</th>\n",
       "      <th>CommandLine</th>\n",
       "      <th>Network Image</th>\n",
       "      <th>Operations</th>\n",
       "      <th>Severity</th>\n",
       "    </tr>\n",
       "  </thead>\n",
       "  <tbody>\n",
       "    <tr>\n",
       "      <th>0</th>\n",
       "      <td>-</td>\n",
       "      <td>CreateKey</td>\n",
       "      <td>2020-11-02 18:47:39.477</td>\n",
       "      <td>{FA827E5A-2A19-5FA0-1D00-000000003000}</td>\n",
       "      <td>1152</td>\n",
       "      <td>c:\\windows\\system32\\svchost.exe</td>\n",
       "      <td>HKLM\\System\\CurrentControlSet\\Services\\NetBT</td>\n",
       "      <td>None</td>\n",
       "      <td>None</td>\n",
       "      <td>None</td>\n",
       "      <td>None</td>\n",
       "      <td>None</td>\n",
       "      <td>None</td>\n",
       "      <td>None</td>\n",
       "      <td>None</td>\n",
       "      <td>Low</td>\n",
       "    </tr>\n",
       "    <tr>\n",
       "      <th>1</th>\n",
       "      <td>-</td>\n",
       "      <td>CreateKey</td>\n",
       "      <td>2020-11-02 18:47:15.865</td>\n",
       "      <td>{63e358a4-2a03-5fa0-1a00-000000002d00}</td>\n",
       "      <td>1080</td>\n",
       "      <td>C:\\Windows\\system32\\svchost.exe</td>\n",
       "      <td>HKLM\\System\\CurrentControlSet\\Services\\NetBT</td>\n",
       "      <td>None</td>\n",
       "      <td>None</td>\n",
       "      <td>None</td>\n",
       "      <td>None</td>\n",
       "      <td>None</td>\n",
       "      <td>None</td>\n",
       "      <td>None</td>\n",
       "      <td>None</td>\n",
       "      <td>Low</td>\n",
       "    </tr>\n",
       "    <tr>\n",
       "      <th>2</th>\n",
       "      <td>-</td>\n",
       "      <td>CreateKey</td>\n",
       "      <td>2020-11-02 18:44:00.629</td>\n",
       "      <td>{63e358a4-2a01-5fa0-0b00-000000002d00}</td>\n",
       "      <td>552</td>\n",
       "      <td>C:\\Windows\\system32\\services.exe</td>\n",
       "      <td>HKLM\\System\\CurrentControlSet\\Services\\SO-CON</td>\n",
       "      <td>ASGARD-WRKSTN</td>\n",
       "      <td>Earth-DC.marvel.local</td>\n",
       "      <td>C:\\Windows\\System32\\notepad.exe</td>\n",
       "      <td>sc.exe</td>\n",
       "      <td>powershell.exe</td>\n",
       "      <td>\"C:\\Windows\\system32\\sc.exe\" \\\\192.168.146.15 create SO-CON binpath=C:\\Windows\\System32\\notepad.exe</td>\n",
       "      <td>services.exe</td>\n",
       "      <td>CreateServiceW</td>\n",
       "      <td>High</td>\n",
       "    </tr>\n",
       "    <tr>\n",
       "      <th>3</th>\n",
       "      <td>-</td>\n",
       "      <td>CreateKey</td>\n",
       "      <td>2020-11-02 18:42:39.441</td>\n",
       "      <td>{FA827E5A-2A19-5FA0-1D00-000000003000}</td>\n",
       "      <td>1152</td>\n",
       "      <td>c:\\windows\\system32\\svchost.exe</td>\n",
       "      <td>HKLM\\System\\CurrentControlSet\\Services\\NetBT</td>\n",
       "      <td>None</td>\n",
       "      <td>None</td>\n",
       "      <td>None</td>\n",
       "      <td>None</td>\n",
       "      <td>None</td>\n",
       "      <td>None</td>\n",
       "      <td>None</td>\n",
       "      <td>None</td>\n",
       "      <td>Low</td>\n",
       "    </tr>\n",
       "    <tr>\n",
       "      <th>4</th>\n",
       "      <td>-</td>\n",
       "      <td>CreateKey</td>\n",
       "      <td>2020-11-02 18:42:15.817</td>\n",
       "      <td>{63e358a4-2a03-5fa0-1a00-000000002d00}</td>\n",
       "      <td>1080</td>\n",
       "      <td>C:\\Windows\\system32\\svchost.exe</td>\n",
       "      <td>HKLM\\System\\CurrentControlSet\\Services\\NetBT</td>\n",
       "      <td>None</td>\n",
       "      <td>None</td>\n",
       "      <td>None</td>\n",
       "      <td>None</td>\n",
       "      <td>None</td>\n",
       "      <td>None</td>\n",
       "      <td>None</td>\n",
       "      <td>None</td>\n",
       "      <td>Low</td>\n",
       "    </tr>\n",
       "    <tr>\n",
       "      <th>5</th>\n",
       "      <td>-</td>\n",
       "      <td>CreateKey</td>\n",
       "      <td>2020-11-02 18:37:39.404</td>\n",
       "      <td>{FA827E5A-2A19-5FA0-1D00-000000003000}</td>\n",
       "      <td>1152</td>\n",
       "      <td>c:\\windows\\system32\\svchost.exe</td>\n",
       "      <td>HKLM\\System\\CurrentControlSet\\Services\\NetBT</td>\n",
       "      <td>None</td>\n",
       "      <td>None</td>\n",
       "      <td>None</td>\n",
       "      <td>None</td>\n",
       "      <td>None</td>\n",
       "      <td>None</td>\n",
       "      <td>None</td>\n",
       "      <td>None</td>\n",
       "      <td>Low</td>\n",
       "    </tr>\n",
       "    <tr>\n",
       "      <th>6</th>\n",
       "      <td>-</td>\n",
       "      <td>CreateKey</td>\n",
       "      <td>2020-11-02 18:37:15.754</td>\n",
       "      <td>{63e358a4-2a03-5fa0-1a00-000000002d00}</td>\n",
       "      <td>1080</td>\n",
       "      <td>C:\\Windows\\system32\\svchost.exe</td>\n",
       "      <td>HKLM\\System\\CurrentControlSet\\Services\\NetBT</td>\n",
       "      <td>None</td>\n",
       "      <td>None</td>\n",
       "      <td>None</td>\n",
       "      <td>None</td>\n",
       "      <td>None</td>\n",
       "      <td>None</td>\n",
       "      <td>None</td>\n",
       "      <td>None</td>\n",
       "      <td>Low</td>\n",
       "    </tr>\n",
       "  </tbody>\n",
       "</table>\n",
       "</div>"
      ],
      "text/plain": [
       "  RuleName  EventType                  UtcTime                             ProcessGuid ProcessId                             Image                                   TargetObject    Source Host       Destination Host                          Details Parent Process Iniating Process                                                                                          CommandLine Network Image      Operations Severity\n",
       "0  -        CreateKey  2020-11-02 18:47:39.477  {FA827E5A-2A19-5FA0-1D00-000000003000}  1152      c:\\windows\\system32\\svchost.exe   HKLM\\System\\CurrentControlSet\\Services\\NetBT   None           None                   None                             None           None             None                                                                                                 None          None            Low    \n",
       "1  -        CreateKey  2020-11-02 18:47:15.865  {63e358a4-2a03-5fa0-1a00-000000002d00}  1080      C:\\Windows\\system32\\svchost.exe   HKLM\\System\\CurrentControlSet\\Services\\NetBT   None           None                   None                             None           None             None                                                                                                 None          None            Low    \n",
       "2  -        CreateKey  2020-11-02 18:44:00.629  {63e358a4-2a01-5fa0-0b00-000000002d00}  552       C:\\Windows\\system32\\services.exe  HKLM\\System\\CurrentControlSet\\Services\\SO-CON  ASGARD-WRKSTN  Earth-DC.marvel.local  C:\\Windows\\System32\\notepad.exe  sc.exe         powershell.exe   \"C:\\Windows\\system32\\sc.exe\" \\\\192.168.146.15 create SO-CON binpath=C:\\Windows\\System32\\notepad.exe  services.exe  CreateServiceW  High   \n",
       "3  -        CreateKey  2020-11-02 18:42:39.441  {FA827E5A-2A19-5FA0-1D00-000000003000}  1152      c:\\windows\\system32\\svchost.exe   HKLM\\System\\CurrentControlSet\\Services\\NetBT   None           None                   None                             None           None             None                                                                                                 None          None            Low    \n",
       "4  -        CreateKey  2020-11-02 18:42:15.817  {63e358a4-2a03-5fa0-1a00-000000002d00}  1080      C:\\Windows\\system32\\svchost.exe   HKLM\\System\\CurrentControlSet\\Services\\NetBT   None           None                   None                             None           None             None                                                                                                 None          None            Low    \n",
       "5  -        CreateKey  2020-11-02 18:37:39.404  {FA827E5A-2A19-5FA0-1D00-000000003000}  1152      c:\\windows\\system32\\svchost.exe   HKLM\\System\\CurrentControlSet\\Services\\NetBT   None           None                   None                             None           None             None                                                                                                 None          None            Low    \n",
       "6  -        CreateKey  2020-11-02 18:37:15.754  {63e358a4-2a03-5fa0-1a00-000000002d00}  1080      C:\\Windows\\system32\\svchost.exe   HKLM\\System\\CurrentControlSet\\Services\\NetBT   None           None                   None                             None           None             None                                                                                                 None          None            Low    "
      ]
     },
     "execution_count": 111,
     "metadata": {},
     "output_type": "execute_result"
    }
   ],
   "source": [
    "Base_Condition"
   ]
  },
  {
   "cell_type": "code",
   "execution_count": 112,
   "metadata": {},
   "outputs": [],
   "source": [
    "Final_DF =  Base_Condition"
   ]
  },
  {
   "cell_type": "code",
   "execution_count": 113,
   "metadata": {},
   "outputs": [
    {
     "name": "stdout",
     "output_type": "stream",
     "text": [
      "Stored 'Final_DF' (DataFrame)\n"
     ]
    }
   ],
   "source": [
    "%store Final_DF"
   ]
  },
  {
   "cell_type": "markdown",
   "metadata": {},
   "source": [
    "# Alert Email: "
   ]
  },
  {
   "cell_type": "code",
   "execution_count": 32,
   "metadata": {},
   "outputs": [],
   "source": [
    "%%capture\n",
    "import smtplib, ssl\n",
    "triage = 'http://192.168.1.68:8888/lab/tree/work/Detection%20Notebooks/Service%20Creation%20(T1543.003)/Service_Creation_Triage.ipynb'\n",
    "investigation = 'http://192.168.1.68:8888/lab/tree/work/Detection%20Notebooks/Service%20Creation%20(T1543.003)/Service_Creation_Investigations.ipynb'\n",
    "Alert_Name=\"Service Creation\"\n",
    "\n",
    "for i, (index, row) in enumerate(Base_Condition.iterrows()): \n",
    "    time = Base_Condition['UtcTime'][index]\n",
    "    parent_process=Base_Condition['Parent Process'][index]\n",
    "    rpc_client=Base_Condition['Iniating Process'][index]\n",
    "    rpc_server=Base_Condition['Network Image'][index]\n",
    "    source_host=Base_Condition['Source Host'][index]\n",
    "    dest_host=Base_Condition['Destination Host'][index]\n",
    "    targetobject = Base_Condition['TargetObject'][index]\n",
    "    severity = Base_Condition['Severity'][index]\n",
    "    commandline=Base_Condition['CommandLine'][index]\n",
    "    port = 587  # For starttls\n",
    "    smtp_server = \"smtp.gmail.com\"\n",
    "    sender_email = \"\"\n",
    "    receiver_email = \"\"\n",
    "    password = \"\"\n",
    "    message = \"\"\"Subject: {Alert_Name} ALERT \\n\n",
    "    \n",
    "    \\nSeverity: {severity}\n",
    "    \n",
    "    \\nA new service was created at time: {time} \n",
    "    \n",
    "    \\nService was created on host: {dest_host} \n",
    "    \n",
    "    \\nService was created with the registry path: {targetobject}. \n",
    "    \n",
    "    \\nThe service request came from host: {source_host}\n",
    "    \n",
    "    \\nThe process that intialized the service creation was: {rpc_client} \n",
    "    \n",
    "    \\nCommandline: {commandline} \n",
    "    \n",
    "    \\nParent Process: {parent_process}\n",
    "    \n",
    "    \\nInvestigation Notebook: {investigation}\n",
    "    \n",
    "    \\nTriage Notebook: {triage}\\n\"\"\".format(Alert_Name=Alert_Name, time=time, targetobject=targetobject, triage=triage, investigation=investigation, severity=severity, commandline=commandline, parent_process=parent_process, rpc_client=rpc_client, source_host=source_host,dest_host=dest_host)\n",
    "\n",
    "    context = ssl.create_default_context()\n",
    "    try:\n",
    "        server = smtplib.SMTP(smtp_server,port)\n",
    "        server.ehlo() # Can be omitted\n",
    "        server.starttls() # Secure the connection\n",
    "        server.login(sender_email, password)\n",
    "        server.sendmail(sender_email, receiver_email, message)\n",
    "    except Exception as e:\n",
    "        # Print any error messages to stdout\n",
    "        print(e)\n",
    "    finally:\n",
    "        server.close()"
   ]
  },
  {
   "cell_type": "code",
   "execution_count": 33,
   "metadata": {},
   "outputs": [],
   "source": [
    "Final_DF.to_pickle('~/work/Final_DF')"
   ]
  },
  {
   "cell_type": "code",
   "execution_count": null,
   "metadata": {},
   "outputs": [],
   "source": []
  }
 ],
 "metadata": {
  "kernelspec": {
   "display_name": "Python 3",
   "language": "python",
   "name": "python3"
  },
  "language_info": {
   "codemirror_mode": {
    "name": "ipython",
    "version": 3
   },
   "file_extension": ".py",
   "mimetype": "text/x-python",
   "name": "python",
   "nbconvert_exporter": "python",
   "pygments_lexer": "ipython3",
   "version": "3.8.6"
  },
  "widgets": {
   "application/vnd.jupyter.widget-state+json": {
    "state": {
     "255b3308d4e146b8a045604eafa197a6": {
      "model_module": "@jupyter-widgets/base",
      "model_module_version": "1.2.0",
      "model_name": "LayoutModel",
      "state": {
       "_model_module": "@jupyter-widgets/base",
       "_model_module_version": "1.2.0",
       "_model_name": "LayoutModel",
       "_view_count": null,
       "_view_module": "@jupyter-widgets/base",
       "_view_module_version": "1.2.0",
       "_view_name": "LayoutView",
       "align_content": null,
       "align_items": null,
       "align_self": null,
       "border": null,
       "bottom": null,
       "display": null,
       "flex": null,
       "flex_flow": null,
       "grid_area": null,
       "grid_auto_columns": null,
       "grid_auto_flow": null,
       "grid_auto_rows": null,
       "grid_column": null,
       "grid_gap": null,
       "grid_row": null,
       "grid_template_areas": null,
       "grid_template_columns": null,
       "grid_template_rows": null,
       "height": null,
       "justify_content": null,
       "justify_items": null,
       "left": null,
       "margin": null,
       "max_height": null,
       "max_width": null,
       "min_height": null,
       "min_width": null,
       "object_fit": null,
       "object_position": null,
       "order": null,
       "overflow": null,
       "overflow_x": null,
       "overflow_y": null,
       "padding": null,
       "right": null,
       "top": null,
       "visibility": null,
       "width": null
      }
     },
     "26fa2213cdf74e29806075dcff6ada81": {
      "model_module": "@jupyter-widgets/controls",
      "model_module_version": "1.5.0",
      "model_name": "DescriptionStyleModel",
      "state": {
       "_model_module": "@jupyter-widgets/controls",
       "_model_module_version": "1.5.0",
       "_model_name": "DescriptionStyleModel",
       "_view_count": null,
       "_view_module": "@jupyter-widgets/base",
       "_view_module_version": "1.2.0",
       "_view_name": "StyleView",
       "description_width": ""
      }
     },
     "3930c9e86167405a8818add118dbeed2": {
      "model_module": "@jupyter-widgets/controls",
      "model_module_version": "1.5.0",
      "model_name": "HTMLModel",
      "state": {
       "_dom_classes": [],
       "_model_module": "@jupyter-widgets/controls",
       "_model_module_version": "1.5.0",
       "_model_name": "HTMLModel",
       "_view_count": null,
       "_view_module": "@jupyter-widgets/controls",
       "_view_module_version": "1.5.0",
       "_view_name": "HTMLView",
       "description": "",
       "description_tooltip": null,
       "layout": "IPY_MODEL_ae94a6922eb14082bd212fa133435cd4",
       "placeholder": "​",
       "style": "IPY_MODEL_26fa2213cdf74e29806075dcff6ada81",
       "value": "100%"
      }
     },
     "4a43b0b18c2749fd8b62a76c2dc7f892": {
      "model_module": "@jupyter-widgets/controls",
      "model_module_version": "1.5.0",
      "model_name": "HTMLModel",
      "state": {
       "_dom_classes": [],
       "_model_module": "@jupyter-widgets/controls",
       "_model_module_version": "1.5.0",
       "_model_name": "HTMLModel",
       "_view_count": null,
       "_view_module": "@jupyter-widgets/controls",
       "_view_module_version": "1.5.0",
       "_view_name": "HTMLView",
       "description": "",
       "description_tooltip": null,
       "layout": "IPY_MODEL_849904d584e445dcb658e889c52a1982",
       "placeholder": "​",
       "style": "IPY_MODEL_ed4e28db712c42c9bffcdafa2037e671",
       "value": " 882/882 [00:20&lt;00:00, 43.88it/s]"
      }
     },
     "68115abf3cc7452eb63b6d8d196874a8": {
      "model_module": "@jupyter-widgets/base",
      "model_module_version": "1.2.0",
      "model_name": "LayoutModel",
      "state": {
       "_model_module": "@jupyter-widgets/base",
       "_model_module_version": "1.2.0",
       "_model_name": "LayoutModel",
       "_view_count": null,
       "_view_module": "@jupyter-widgets/base",
       "_view_module_version": "1.2.0",
       "_view_name": "LayoutView",
       "align_content": null,
       "align_items": null,
       "align_self": null,
       "border": null,
       "bottom": null,
       "display": null,
       "flex": null,
       "flex_flow": null,
       "grid_area": null,
       "grid_auto_columns": null,
       "grid_auto_flow": null,
       "grid_auto_rows": null,
       "grid_column": null,
       "grid_gap": null,
       "grid_row": null,
       "grid_template_areas": null,
       "grid_template_columns": null,
       "grid_template_rows": null,
       "height": null,
       "justify_content": null,
       "justify_items": null,
       "left": null,
       "margin": null,
       "max_height": null,
       "max_width": null,
       "min_height": null,
       "min_width": null,
       "object_fit": null,
       "object_position": null,
       "order": null,
       "overflow": null,
       "overflow_x": null,
       "overflow_y": null,
       "padding": null,
       "right": null,
       "top": null,
       "visibility": null,
       "width": null
      }
     },
     "6effbedb5ed843e788d9b437d7ce5b21": {
      "model_module": "@jupyter-widgets/controls",
      "model_module_version": "1.5.0",
      "model_name": "HBoxModel",
      "state": {
       "_dom_classes": [],
       "_model_module": "@jupyter-widgets/controls",
       "_model_module_version": "1.5.0",
       "_model_name": "HBoxModel",
       "_view_count": null,
       "_view_module": "@jupyter-widgets/controls",
       "_view_module_version": "1.5.0",
       "_view_name": "HBoxView",
       "box_style": "",
       "children": [
        "IPY_MODEL_3930c9e86167405a8818add118dbeed2",
        "IPY_MODEL_826dd9f48147460c91e3d84e66a6f27b",
        "IPY_MODEL_4a43b0b18c2749fd8b62a76c2dc7f892"
       ],
       "layout": "IPY_MODEL_255b3308d4e146b8a045604eafa197a6"
      }
     },
     "826dd9f48147460c91e3d84e66a6f27b": {
      "model_module": "@jupyter-widgets/controls",
      "model_module_version": "1.5.0",
      "model_name": "FloatProgressModel",
      "state": {
       "_dom_classes": [],
       "_model_module": "@jupyter-widgets/controls",
       "_model_module_version": "1.5.0",
       "_model_name": "FloatProgressModel",
       "_view_count": null,
       "_view_module": "@jupyter-widgets/controls",
       "_view_module_version": "1.5.0",
       "_view_name": "ProgressView",
       "bar_style": "success",
       "description": "",
       "description_tooltip": null,
       "layout": "IPY_MODEL_68115abf3cc7452eb63b6d8d196874a8",
       "max": 882,
       "min": 0,
       "orientation": "horizontal",
       "style": "IPY_MODEL_8adecca98d684c3ab2e93fde06fd9593",
       "value": 882
      }
     },
     "849904d584e445dcb658e889c52a1982": {
      "model_module": "@jupyter-widgets/base",
      "model_module_version": "1.2.0",
      "model_name": "LayoutModel",
      "state": {
       "_model_module": "@jupyter-widgets/base",
       "_model_module_version": "1.2.0",
       "_model_name": "LayoutModel",
       "_view_count": null,
       "_view_module": "@jupyter-widgets/base",
       "_view_module_version": "1.2.0",
       "_view_name": "LayoutView",
       "align_content": null,
       "align_items": null,
       "align_self": null,
       "border": null,
       "bottom": null,
       "display": null,
       "flex": null,
       "flex_flow": null,
       "grid_area": null,
       "grid_auto_columns": null,
       "grid_auto_flow": null,
       "grid_auto_rows": null,
       "grid_column": null,
       "grid_gap": null,
       "grid_row": null,
       "grid_template_areas": null,
       "grid_template_columns": null,
       "grid_template_rows": null,
       "height": null,
       "justify_content": null,
       "justify_items": null,
       "left": null,
       "margin": null,
       "max_height": null,
       "max_width": null,
       "min_height": null,
       "min_width": null,
       "object_fit": null,
       "object_position": null,
       "order": null,
       "overflow": null,
       "overflow_x": null,
       "overflow_y": null,
       "padding": null,
       "right": null,
       "top": null,
       "visibility": null,
       "width": null
      }
     },
     "8adecca98d684c3ab2e93fde06fd9593": {
      "model_module": "@jupyter-widgets/controls",
      "model_module_version": "1.5.0",
      "model_name": "ProgressStyleModel",
      "state": {
       "_model_module": "@jupyter-widgets/controls",
       "_model_module_version": "1.5.0",
       "_model_name": "ProgressStyleModel",
       "_view_count": null,
       "_view_module": "@jupyter-widgets/base",
       "_view_module_version": "1.2.0",
       "_view_name": "StyleView",
       "bar_color": null,
       "description_width": ""
      }
     },
     "ae94a6922eb14082bd212fa133435cd4": {
      "model_module": "@jupyter-widgets/base",
      "model_module_version": "1.2.0",
      "model_name": "LayoutModel",
      "state": {
       "_model_module": "@jupyter-widgets/base",
       "_model_module_version": "1.2.0",
       "_model_name": "LayoutModel",
       "_view_count": null,
       "_view_module": "@jupyter-widgets/base",
       "_view_module_version": "1.2.0",
       "_view_name": "LayoutView",
       "align_content": null,
       "align_items": null,
       "align_self": null,
       "border": null,
       "bottom": null,
       "display": null,
       "flex": null,
       "flex_flow": null,
       "grid_area": null,
       "grid_auto_columns": null,
       "grid_auto_flow": null,
       "grid_auto_rows": null,
       "grid_column": null,
       "grid_gap": null,
       "grid_row": null,
       "grid_template_areas": null,
       "grid_template_columns": null,
       "grid_template_rows": null,
       "height": null,
       "justify_content": null,
       "justify_items": null,
       "left": null,
       "margin": null,
       "max_height": null,
       "max_width": null,
       "min_height": null,
       "min_width": null,
       "object_fit": null,
       "object_position": null,
       "order": null,
       "overflow": null,
       "overflow_x": null,
       "overflow_y": null,
       "padding": null,
       "right": null,
       "top": null,
       "visibility": null,
       "width": null
      }
     },
     "ed4e28db712c42c9bffcdafa2037e671": {
      "model_module": "@jupyter-widgets/controls",
      "model_module_version": "1.5.0",
      "model_name": "DescriptionStyleModel",
      "state": {
       "_model_module": "@jupyter-widgets/controls",
       "_model_module_version": "1.5.0",
       "_model_name": "DescriptionStyleModel",
       "_view_count": null,
       "_view_module": "@jupyter-widgets/base",
       "_view_module_version": "1.2.0",
       "_view_name": "StyleView",
       "description_width": ""
      }
     }
    },
    "version_major": 2,
    "version_minor": 0
   }
  }
 },
 "nbformat": 4,
 "nbformat_minor": 4
}
